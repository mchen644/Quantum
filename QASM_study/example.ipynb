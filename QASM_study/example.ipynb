{
 "cells": [
  {
   "cell_type": "code",
   "execution_count": null,
   "metadata": {},
   "outputs": [],
   "source": [
    "import qiskit.qasm3\n",
    " \n",
    "program = \"\"\"\n",
    "    OPENQASM 3.0;\n",
    "    include \"stdgates.inc\";\n",
    " \n",
    "    input float[64] a;\n",
    "    qubit[3] q;\n",
    "    bit[2] mid;\n",
    "    bit[3] out;\n",
    " \n",
    "    let aliased = q[0:1];\n",
    " \n",
    "    gate my_gate(a) c, t {\n",
    "      gphase(a / 2);\n",
    "      ry(a) c;\n",
    "      cx c, t;\n",
    "    }\n",
    "    gate my_phase(a) c {\n",
    "      ctrl @ inv @ gphase(a) c;\n",
    "    }\n",
    " \n",
    "    my_gate(a * 2) aliased[0], q[{1, 2}][0];\n",
    "    measure q[0] -> mid[0];\n",
    "    measure q[1] -> mid[1];\n",
    " \n",
    "    while (mid == \"00\") {\n",
    "      reset q[0];\n",
    "      reset q[1];\n",
    "      my_gate(a) q[0], q[1];\n",
    "      my_phase(a - pi/2) q[1];\n",
    "      mid[0] = measure q[0];\n",
    "      mid[1] = measure q[1];\n",
    "    }\n",
    " \n",
    "    if (mid[0]) {\n",
    "      let inner_alias = q[{0, 1}];\n",
    "      reset inner_alias;\n",
    "    }\n",
    " \n",
    "    out = measure q;\n",
    "\"\"\"\n",
    "circuit = qiskit.qasm3.loads(program)\n",
    "circuit.draw(\"mpl\")"
   ]
  },
  {
   "cell_type": "code",
   "execution_count": null,
   "metadata": {},
   "outputs": [],
   "source": []
  }
 ],
 "metadata": {
  "language_info": {
   "name": "python"
  }
 },
 "nbformat": 4,
 "nbformat_minor": 2
}
